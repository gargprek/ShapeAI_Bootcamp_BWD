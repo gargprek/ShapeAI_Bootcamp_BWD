{
  "nbformat": 4,
  "nbformat_minor": 0,
  "metadata": {
    "colab": {
      "name": "Shape_AI_Data_Analytics.ipynb",
      "provenance": [],
      "authorship_tag": "ABX9TyOKA6dHXnBdfvcoW2mDvvrE",
      "include_colab_link": true
    },
    "kernelspec": {
      "name": "python3",
      "display_name": "Python 3"
    },
    "language_info": {
      "name": "python"
    }
  },
  "cells": [
    {
      "cell_type": "markdown",
      "metadata": {
        "id": "view-in-github",
        "colab_type": "text"
      },
      "source": [
        "<a href=\"https://colab.research.google.com/github/gargprek/ShapeAI_Bootcamp_BWD/blob/main/Shape_AI_Data_Analytics.ipynb\" target=\"_parent\"><img src=\"https://colab.research.google.com/assets/colab-badge.svg\" alt=\"Open In Colab\"/></a>"
      ]
    },
    {
      "cell_type": "markdown",
      "metadata": {
        "id": "DIXWvQtFxRLA"
      },
      "source": [
        "**TITANIC SURVIVOR ANALYSIS**"
      ]
    },
    {
      "cell_type": "code",
      "metadata": {
        "id": "KUDCWCVMxeMr"
      },
      "source": [
        "import pandas as pd\n",
        "import numpy as np"
      ],
      "execution_count": null,
      "outputs": []
    },
    {
      "cell_type": "markdown",
      "metadata": {
        "id": "hwzVd3wJHa2e"
      },
      "source": [
        "We use pandas read_csv function to read the csv file in python and pandas dataframe method to convert file into the data frame."
      ]
    },
    {
      "cell_type": "code",
      "metadata": {
        "id": "nwLgJYk9xqkf"
      },
      "source": [
        "df = pd.DataFrame(pd.read_csv('/content/train.csv'))\n",
        "df.head()"
      ],
      "execution_count": null,
      "outputs": []
    },
    {
      "cell_type": "code",
      "metadata": {
        "id": "iScSj9ep7y84"
      },
      "source": [
        "df.shape"
      ],
      "execution_count": null,
      "outputs": []
    },
    {
      "cell_type": "code",
      "metadata": {
        "id": "iLqIuiWK7zEu"
      },
      "source": [
        "df.isnull().sum()"
      ],
      "execution_count": null,
      "outputs": []
    },
    {
      "cell_type": "code",
      "metadata": {
        "id": "GTeda29f7zLp"
      },
      "source": [
        "#df.isnull().sum() returns a pandas series with columns name as the label index\n",
        "# and total count of null values in the column as it's value\n",
        "# and we are storing only those columns which have more than 35% of the data missing.\n",
        "\n",
        "\n",
        "x = df.isnull().sum()\n",
        "drop_col = x[x>(35/100 * df.shape[0])]\n",
        "drop_col"
      ],
      "execution_count": null,
      "outputs": []
    },
    {
      "cell_type": "code",
      "metadata": {
        "id": "Vu0HjMY6_eeP"
      },
      "source": [
        "drop_col.index"
      ],
      "execution_count": null,
      "outputs": []
    },
    {
      "cell_type": "code",
      "metadata": {
        "id": "ABg4Lzbl_eoP"
      },
      "source": [
        "df.drop(drop_col.index, axis=1, inplace=True)\n",
        "df.isnull().sum()"
      ],
      "execution_count": null,
      "outputs": []
    },
    {
      "cell_type": "code",
      "metadata": {
        "id": "BdRJoXlg_ev3"
      },
      "source": [
        "df.fillna(df.mean(), inplace = True)\n",
        "df.isnull().sum()"
      ],
      "execution_count": null,
      "outputs": []
    },
    {
      "cell_type": "code",
      "metadata": {
        "id": "xoOT7KzQAKw-"
      },
      "source": [
        "df['Embarked'].describe()"
      ],
      "execution_count": null,
      "outputs": []
    },
    {
      "cell_type": "code",
      "metadata": {
        "id": "RuGsAXiuAKza"
      },
      "source": [
        "df['Embarked'].fillna('S',inplace=True)"
      ],
      "execution_count": null,
      "outputs": []
    },
    {
      "cell_type": "code",
      "metadata": {
        "id": "WSp2P-BmAK13"
      },
      "source": [
        "df.isnull().sum()       ## NOW ALL THE VALUES HAVE BEEN FILLED"
      ],
      "execution_count": null,
      "outputs": []
    },
    {
      "cell_type": "code",
      "metadata": {
        "id": "_XxIdQbQBZug"
      },
      "source": [
        "df.corr()"
      ],
      "execution_count": null,
      "outputs": []
    },
    {
      "cell_type": "markdown",
      "metadata": {
        "id": "GLoGnhe_B10j"
      },
      "source": [
        "sibsp: Number of siblings/spouses abroad\n",
        "\n",
        "parch: Number of parents/children abroad"
      ]
    },
    {
      "cell_type": "code",
      "metadata": {
        "id": "as8DH87ZBZ8-"
      },
      "source": [
        "df['FamilySize'] = df['SibSp']+df['Parch']\n",
        "df.drop(['SibSp', 'Parch'], axis=1, inplace=True)\n",
        "df.corr()"
      ],
      "execution_count": null,
      "outputs": []
    },
    {
      "cell_type": "code",
      "metadata": {
        "id": "D3iSXcMsBaBg"
      },
      "source": [
        "df['Alone'] = [0 if df['FamilySize'][i]>0 else 1 for i in df.index]\n",
        "df.head()"
      ],
      "execution_count": null,
      "outputs": []
    },
    {
      "cell_type": "code",
      "metadata": {
        "id": "Tdiv8Eb6Eqny"
      },
      "source": [
        "df.groupby(['Alone'])['Survived'].mean()"
      ],
      "execution_count": null,
      "outputs": []
    },
    {
      "cell_type": "code",
      "metadata": {
        "id": "LAYCf_2LEqqQ"
      },
      "source": [
        "df[['Alone','Fare']].corr()"
      ],
      "execution_count": null,
      "outputs": []
    },
    {
      "cell_type": "code",
      "metadata": {
        "id": "cQ-CMyXDEqsw"
      },
      "source": [
        "df['Sex'] = [0 if df['Sex'][i]=='male' else 1 for i in df.index]   # 1 for female, 0 for male\n",
        "df.groupby(['Sex'])['Survived'].mean()"
      ],
      "execution_count": null,
      "outputs": []
    },
    {
      "cell_type": "code",
      "metadata": {
        "id": "iYiO7t9wFnJp"
      },
      "source": [
        "df.groupby(['Embarked'])['Survived'].mean()"
      ],
      "execution_count": null,
      "outputs": []
    },
    {
      "cell_type": "markdown",
      "metadata": {
        "id": "Q_-cL4dqZAJo"
      },
      "source": [
        "CONCLUSION:"
      ]
    },
    {
      "cell_type": "markdown",
      "metadata": {
        "id": "4_zmPUz0ZSGy"
      },
      "source": [
        "Female passengers were prioritized over men\n",
        "People with high class or rich people have higher survival rate than others.\n",
        "\n",
        "The hierarcy might have been followed while saving the passengers.\n",
        "\n",
        "Passengers travelling with their family have higher survival rate.\n",
        "\n",
        "Passengers who boarded the ship at Cherbourg, survived more in proportion than the others.\n"
      ]
    }
  ]
}